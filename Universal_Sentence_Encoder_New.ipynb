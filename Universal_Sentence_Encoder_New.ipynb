{
 "cells": [
  {
   "cell_type": "markdown",
   "metadata": {
    "colab_type": "text",
    "id": "RZZ94FdEsbMU"
   },
   "source": [
    "### The Universal Sentence Encoder\n",
    "It is a powerful self-contained module capable of embedding words, phrases and sentences. It takes variable length input and outputs a 512-dimensional vector. The Transformer model's encoder part is considered."
   ]
  },
  {
   "cell_type": "markdown",
   "metadata": {
    "colab_type": "text",
    "id": "PkJAt_rXt4YB"
   },
   "source": [
    "#### Run the following to download the packages"
   ]
  },
  {
   "cell_type": "code",
   "execution_count": 0,
   "metadata": {
    "colab": {},
    "colab_type": "code",
    "id": "OsGNwW24s7C3"
   },
   "outputs": [],
   "source": [
    "import nltk\n",
    "# nltk.download('punkt')\n",
    "# nltk.download('stopwords')\n",
    "# nltk.download('wordnet')"
   ]
  },
  {
   "cell_type": "markdown",
   "metadata": {
    "colab_type": "text",
    "id": "3PW89LZVt8hY"
   },
   "source": [
    "#### Run the following to load performance metrics\n"
   ]
  },
  {
   "cell_type": "code",
   "execution_count": 0,
   "metadata": {
    "colab": {},
    "colab_type": "code",
    "id": "mz1OXZEktAE1"
   },
   "outputs": [],
   "source": [
    "# pip install keras-metrics"
   ]
  },
  {
   "cell_type": "code",
   "execution_count": 3,
   "metadata": {
    "colab": {
     "base_uri": "https://localhost:8080/",
     "height": 34
    },
    "colab_type": "code",
    "id": "sasZ_jc2sqnf",
    "outputId": "b1fdb7ac-4233-4148-805d-06b60e05274b"
   },
   "outputs": [
    {
     "name": "stderr",
     "output_type": "stream",
     "text": [
      "Using TensorFlow backend.\n"
     ]
    }
   ],
   "source": [
    "### Required Libraries\n",
    "import os, sys\n",
    "import warnings\n",
    "import keras_metrics\n",
    "import numpy as np\n",
    "import pandas as pd\n",
    "import seaborn as sns\n",
    "import tensorflow as tf\n",
    "import tensorflow_hub as hub\n",
    "import matplotlib.pyplot as plt\n",
    "\n",
    "from sklearn.utils import shuffle\n",
    "from sklearn.model_selection import train_test_split, cross_val_score\n",
    "from sklearn.ensemble import RandomForestClassifier\n",
    "\n",
    "from nltk import word_tokenize\n",
    "from nltk.corpus import stopwords\n",
    "from string import punctuation\n",
    "from nltk.collocations import *\n",
    "from nltk.stem import WordNetLemmatizer\n",
    "\n",
    "from keras.preprocessing import sequence\n",
    "from keras.models import Sequential\n",
    "from keras.layers import Dense\n",
    "from keras.layers import LSTM\n",
    "from keras.layers.embeddings import Embedding\n",
    "from keras.preprocessing import sequence"
   ]
  },
  {
   "cell_type": "markdown",
   "metadata": {
    "colab_type": "text",
    "id": "7IsMXpZ4uD3p"
   },
   "source": [
    "#### Load the Universal sentence encoder link"
   ]
  },
  {
   "cell_type": "code",
   "execution_count": 0,
   "metadata": {
    "colab": {},
    "colab_type": "code",
    "id": "ZLlQsprrt0Um"
   },
   "outputs": [],
   "source": [
    "module_url = \"https://tfhub.dev/google/universal-sentence-encoder/2\" #@param [\"https://tfhub.dev/google/universal-sentence-encoder/2\", \"https://tfhub.dev/google/universal-sentence-encoder-large/3\"]\n",
    "embed = hub.Module(module_url) # Import the Universal Sentence Encoder's TF Hub module\n",
    "tf.logging.set_verbosity(tf.logging.ERROR) # Reduce logging output.\n",
    "warnings.filterwarnings(action = 'ignore')"
   ]
  },
  {
   "cell_type": "markdown",
   "metadata": {
    "colab_type": "text",
    "id": "-nOIZE4DuRL2"
   },
   "source": [
    "#### Load the dataset from the csv files\n",
    "* Training : P1_training_set.csv\n",
    "* Testing : P1_testing_set.csv\n",
    "\n",
    "\n",
    "Create a collective dataset (df) - to perform pre-processing uniformly on the dataset"
   ]
  },
  {
   "cell_type": "code",
   "execution_count": 0,
   "metadata": {
    "colab": {},
    "colab_type": "code",
    "id": "_tRiQ0K6uP6I"
   },
   "outputs": [],
   "source": [
    "df_train_org = pd.read_csv(\"P1_training_set.csv\")\n",
    "df_train_shuf = shuffle(df_train_org)\n",
    "\n",
    "df_test_org = pd.read_csv(\"P1_testing_set.csv\")\n",
    "df_test_shuf = shuffle(df_test_org)\n",
    "\n",
    "frames = [df_train_shuf, df_test_shuf]\n",
    "df = pd.concat(frames, axis=0)"
   ]
  },
  {
   "cell_type": "markdown",
   "metadata": {
    "colab_type": "text",
    "id": "4_swfFCQu0bA"
   },
   "source": [
    "### Preprocessing\n",
    "* Word Tokenize : Convert the sentences into Tokens\n",
    "* Use the stopwords and punctuation list from nltk to clean the word tokens\n",
    "* Use WordNetLemmatizer to convert words to their base form\n",
    "* From the word tokens produce the sentence\n",
    "\n",
    "##### Note: Universal Encoder used here to embed sentences"
   ]
  },
  {
   "cell_type": "code",
   "execution_count": 0,
   "metadata": {
    "colab": {},
    "colab_type": "code",
    "id": "PgBldlWtuzpN"
   },
   "outputs": [],
   "source": [
    "def preprocessing(text):\n",
    "    sent = ''.join(i for i in text if not i.isdigit())\n",
    "    word_sent = word_tokenize(sent)\n",
    "    _stopwords = set(stopwords.words('english') + list(punctuation))\n",
    "    st = WordNetLemmatizer() \n",
    "    _stopwords.add(\"'s\")\n",
    "    word_sent = [st.lemmatize(word) for word in word_sent if word not in _stopwords]\n",
    "    sentence = ' '.join(word for word in word_sent)\n",
    "    return sentence\n",
    "\n",
    "for i in df:\n",
    "    df['process_E1'] = [preprocessing(i) for i in df['Event 1']]\n",
    "    df['process_E2'] = [preprocessing(i) for i in df['Event 2']]    "
   ]
  },
  {
   "cell_type": "markdown",
   "metadata": {
    "colab_type": "text",
    "id": "pJBqpe5tvuIr"
   },
   "source": [
    "### Sentence Embedding\n",
    "Convert the sentences into vectors of len 512 using the \"Universal Sentence Encoder\""
   ]
  },
  {
   "cell_type": "code",
   "execution_count": 0,
   "metadata": {
    "colab": {},
    "colab_type": "code",
    "id": "ZgQOl-eBwEzH"
   },
   "outputs": [],
   "source": [
    "sentences_embeddings_E1 = []\n",
    "sentences_embeddings_E2 = []\n",
    "with tf.Session() as session:\n",
    "  session.run([tf.global_variables_initializer(), tf.tables_initializer()])\n",
    "  sentences_embeddings_E1 = session.run(embed(list(df['process_E1'])))\n",
    "  sentences_embeddings_E2 = session.run(embed(list(df['process_E2'])))\t\n",
    "  \n",
    "sent_list_E1 = list(sentences_embeddings_E1)\n",
    "sent_list_E2 = list(sentences_embeddings_E2)  \n",
    "sent_concat = list(map(lambda x, y: list(x) + list(y), sent_list_E1, sent_list_E2))\n",
    "\n",
    "df_vec = pd.DataFrame(list(zip(sentences_embeddings_E1, sentences_embeddings_E2, sent_concat, df['Label'])),\n",
    "                     columns = ['Sentence Embed 1', 'Sentence Embed 2', 'Collective Embed','Label'])"
   ]
  },
  {
   "cell_type": "markdown",
   "metadata": {
    "colab_type": "text",
    "id": "iU7RLGQDwLgz"
   },
   "source": [
    "### Input and Output Dataset\n",
    "* df_vec['Collective Embed'] - X : Input\n",
    "* df_vec['Label'] - Y : Output\n",
    "\n",
    "* Training : 70% of the Dataset\n",
    "* Testing : 30% of the Dataset"
   ]
  },
  {
   "cell_type": "code",
   "execution_count": 0,
   "metadata": {
    "colab": {},
    "colab_type": "code",
    "id": "8Cp7TJUowpZD"
   },
   "outputs": [],
   "source": [
    "X = df_vec['Collective Embed']\n",
    "y = df_vec['Label']\n",
    "\n",
    "X_train, X_test, y_train, y_test = train_test_split(X, y,test_size=0.30, random_state=42)\t\t\t\t\t \n",
    "X_train = sequence.pad_sequences(X_train)\n",
    "X_test = sequence.pad_sequences(X_test)"
   ]
  },
  {
   "cell_type": "markdown",
   "metadata": {
    "colab_type": "text",
    "id": "Ut7sptUxwvXj"
   },
   "source": [
    "### Model 1\n",
    "* Sequential Model\n",
    "- 100 units - LSTM\n",
    "- Dense Layer - 1 hidden unit with \"sigmoid\" activation function\n",
    "- Dense Layer - 1 hidden unit with \"softmax\" activation function\n",
    "- Optimizer - \"rmsprop\""
   ]
  },
  {
   "cell_type": "code",
   "execution_count": 9,
   "metadata": {
    "colab": {
     "base_uri": "https://localhost:8080/",
     "height": 513
    },
    "colab_type": "code",
    "id": "SNRvpWUox1Zc",
    "outputId": "51f25628-7d5c-4db4-fae9-209fd46457e4"
   },
   "outputs": [
    {
     "name": "stdout",
     "output_type": "stream",
     "text": [
      "Model: \"sequential_1\"\n",
      "_________________________________________________________________\n",
      "Layer (type)                 Output Shape              Param #   \n",
      "=================================================================\n",
      "embedding_1 (Embedding)      (None, 1024, 500)         5000000   \n",
      "_________________________________________________________________\n",
      "lstm_1 (LSTM)                (None, 100)               240400    \n",
      "_________________________________________________________________\n",
      "dense_1 (Dense)              (None, 1)                 101       \n",
      "_________________________________________________________________\n",
      "dense_2 (Dense)              (None, 1)                 2         \n",
      "=================================================================\n",
      "Total params: 5,240,503\n",
      "Trainable params: 5,240,503\n",
      "Non-trainable params: 0\n",
      "_________________________________________________________________\n",
      "None\n",
      "Epoch 1/3\n",
      "6276/6276 [==============================] - 187s 30ms/step - loss: -2.4310 - acc: 0.4039 - precision: 1.1525 - recall: 1.0000\n",
      "Epoch 2/3\n",
      "6276/6276 [==============================] - 187s 30ms/step - loss: -2.4310 - acc: 0.4039 - precision: 1.1525 - recall: 1.0000\n",
      "Epoch 3/3\n",
      "6276/6276 [==============================] - 187s 30ms/step - loss: -2.4310 - acc: 0.4039 - precision: 1.1525 - recall: 1.0000\n",
      "Accuracy   : 0.391\n",
      "Precision  : 1.18\n",
      "Recall     : 1.0\n",
      "Loss       : -2.94\n",
      "F1-Score   : 1.08\n"
     ]
    }
   ],
   "source": [
    "embedding_vecor_length = 32\n",
    "model1 = Sequential()\n",
    "model1.add(Embedding(10000, 500, input_length=1024))\n",
    "model1.add(LSTM(100))\n",
    "model1.add(Dense(1, activation='sigmoid'))\n",
    "model1.add(Dense(1, activation=\"softmax\"))\n",
    "model1.compile(loss='binary_crossentropy', optimizer='rmsprop', metrics=['accuracy', keras_metrics.precision(), keras_metrics.recall()])\n",
    "\n",
    "print(model1.summary())\n",
    "\n",
    "# Training Phase - Fit the model\n",
    "model1.fit(X_train, y_train, epochs=3, batch_size=64)\n",
    "\n",
    "# Testing Phase - Evaluate the model\n",
    "scores = model1.evaluate(X_test, y_test, verbose=0)\n",
    "\n",
    "# Performance Metrics\n",
    "print('Accuracy   : {:2.3}'.format(scores[1]))\n",
    "print('Precision  : {:2.3}'.format(scores[2]))\n",
    "print('Recall     : {:2.3}'.format(scores[3]))\n",
    "print('Loss       : {:2.3}'.format(scores[0]))\n",
    "f_score = (2.0 * scores[2] * scores[3]) / (scores[2] + scores[3])\n",
    "print('F1-Score   : {:2.3}'.format(f_score))"
   ]
  },
  {
   "cell_type": "markdown",
   "metadata": {
    "colab_type": "text",
    "id": "VvBubn72yRxA"
   },
   "source": [
    "### Model 2\n",
    "- Sequential Model\n",
    "- 100 units - LSTM\n",
    "- Dense Layer - 256 hidden unit with - \"relu\" activation function\n",
    "- Dense Layer - 1 hidden unit with - - \"softmax\" activation function\n",
    "- Optimizer - \"adam\""
   ]
  },
  {
   "cell_type": "code",
   "execution_count": 10,
   "metadata": {
    "colab": {
     "base_uri": "https://localhost:8080/",
     "height": 513
    },
    "colab_type": "code",
    "id": "fmxiHaULyn1J",
    "outputId": "7db9ce57-de8d-44fe-de35-3e829d592141"
   },
   "outputs": [
    {
     "name": "stdout",
     "output_type": "stream",
     "text": [
      "Model: \"sequential_2\"\n",
      "_________________________________________________________________\n",
      "Layer (type)                 Output Shape              Param #   \n",
      "=================================================================\n",
      "embedding_2 (Embedding)      (None, 1024, 500)         5000000   \n",
      "_________________________________________________________________\n",
      "lstm_2 (LSTM)                (None, 100)               240400    \n",
      "_________________________________________________________________\n",
      "dense_3 (Dense)              (None, 256)               25856     \n",
      "_________________________________________________________________\n",
      "dense_4 (Dense)              (None, 1)                 257       \n",
      "=================================================================\n",
      "Total params: 5,266,513\n",
      "Trainable params: 5,266,513\n",
      "Non-trainable params: 0\n",
      "_________________________________________________________________\n",
      "None\n",
      "Epoch 1/3\n",
      "6276/6276 [==============================] - 186s 30ms/step - loss: -2.4310 - acc: 0.4039 - precision: 1.1525 - recall: 1.0000\n",
      "Epoch 2/3\n",
      "6276/6276 [==============================] - 187s 30ms/step - loss: -2.4310 - acc: 0.4039 - precision: 1.1525 - recall: 1.0000\n",
      "Epoch 3/3\n",
      "6276/6276 [==============================] - 185s 30ms/step - loss: -2.4310 - acc: 0.4039 - precision: 1.1525 - recall: 1.0000\n",
      "Accuracy   : 0.391\n",
      "Precision  : 1.18\n",
      "Recall     : 1.0\n",
      "Loss       : -2.94\n",
      "F1-Score   : 1.08\n"
     ]
    }
   ],
   "source": [
    "embedding_vecor_length = 32\n",
    "model2 = Sequential()\n",
    "model2.add(Embedding(10000, 500, input_length=1024))\n",
    "model2.add(LSTM(100))\n",
    "model2.add(Dense(256, activation='relu'))\n",
    "model2.add(Dense(1, activation=\"softmax\"))\n",
    "model2.compile(loss='binary_crossentropy', optimizer='adam', metrics=['accuracy', keras_metrics.precision(), keras_metrics.recall()])\n",
    "\n",
    "print(model2.summary())\n",
    "model2.fit(X_train, y_train, epochs=3, batch_size=64)\n",
    "\n",
    "# Final evaluation of the model\n",
    "scores = model2.evaluate(X_test, y_test, verbose=0)\n",
    "\n",
    "print('Accuracy   : {:2.3}'.format(scores[1]))\n",
    "print('Precision  : {:2.3}'.format(scores[2]))\n",
    "print('Recall     : {:2.3}'.format(scores[3]))\n",
    "print('Loss       : {:2.3}'.format(scores[0]))\n",
    "f_score = (2.0 * scores[2] * scores[3]) / (scores[2] + scores[3])\n",
    "print('F1-Score   : {:2.3}'.format(f_score))"
   ]
  },
  {
   "cell_type": "markdown",
   "metadata": {
    "colab_type": "text",
    "id": "wIqMuAhdy3a3"
   },
   "source": [
    "### Model 3\n",
    "- RandomForestClassifier\n",
    "- #Estimators - 200\n",
    "- depth - 3\n",
    "- random-state - 0"
   ]
  },
  {
   "cell_type": "code",
   "execution_count": 11,
   "metadata": {
    "colab": {
     "base_uri": "https://localhost:8080/",
     "height": 284
    },
    "colab_type": "code",
    "id": "usoCX92UzMED",
    "outputId": "78fa8fbf-b60f-4668-c6b0-78fa86335d82"
   },
   "outputs": [
    {
     "data": {
      "image/png": "[encoded data removed]",
      "text/plain": [
       "<Figure size 432x288 with 1 Axes>"
      ]
     },
     "metadata": {
      "tags": []
     },
     "output_type": "display_data"
    }
   ],
   "source": [
    "models = [RandomForestClassifier(n_estimators=200, max_depth=3, random_state=0)]\n",
    "CV = 5\n",
    "cv_df = pd.DataFrame(index=range(len(models)))\n",
    "entries = []\n",
    "for model in models:\n",
    "  model_name = model.__class__.__name__\n",
    "  accuracies = cross_val_score(model, X_train, y_train, scoring='accuracy', cv=CV)\n",
    "  for fold_idx, accuracy in enumerate(accuracies):\n",
    "    entries.append((model_name, fold_idx, accuracy))\n",
    "cv_df = pd.DataFrame(entries, columns=['model_name', 'fold_idx', 'accuracy'])\n",
    "sns.boxplot(x='model_name', y='accuracy', data=cv_df)\n",
    "sns.stripplot(x='model_name', y='accuracy', data=cv_df, \n",
    "              size=8, jitter=True, edgecolor=\"gray\", linewidth=2)\n",
    "plt.show()\n"
   ]
  },
  {
   "cell_type": "code",
   "execution_count": 12,
   "metadata": {
    "colab": {
     "base_uri": "https://localhost:8080/",
     "height": 68
    },
    "colab_type": "code",
    "id": "sQ9YIqiQ8Pv4",
    "outputId": "fa064895-3cb7-48de-c604-75a20a2478fb"
   },
   "outputs": [
    {
     "name": "stdout",
     "output_type": "stream",
     "text": [
      "---------------------\n",
      "RandomForestClassifier   Accuracy : 40.4%\n",
      "---------------------\n"
     ]
    }
   ],
   "source": [
    "val = 0\n",
    "for i in range(len(cv_df)):\n",
    "  val  = val + cv_df['accuracy'][i]\n",
    "val = val/5\n",
    "print(\"---------------------\")\n",
    "print(cv_df['model_name'][i],'  Accuracy : {:2.3}%'.format(val* 100))\n",
    "print('---------------------')"
   ]
  },
  {
   "cell_type": "markdown",
   "metadata": {
    "colab_type": "text",
    "id": "bMcpyMMP9QEu"
   },
   "source": [
    "### Performance Measure\n",
    "#### Google Colabs - GPU\n",
    "\n",
    "#### Model 1 - Sequential - LSTM(100),Sigmod(1), Softmax(1)\n",
    "* Accuracy   : 40.7%\n",
    "* Precision  : 1.15\n",
    "* Recall     : 1.0\n",
    "* Loss       : -2.35\n",
    "* F1-Score   : 1.07\n",
    "##### Computation Time: 9.55 mins\n",
    "\n",
    "#### Model 2 - Sequential - LSTM(100),Relu(256), Softmax(1)\n",
    "* Accuracy   : 41%\n",
    "* Precision  : 1.15\n",
    "* Recall     : 1.0\n",
    "* Loss       : -2.35\n",
    "* F1-Score   : 1.07\n",
    "##### Computation Time: 9.23 mins\n",
    "\n",
    "#### Model 3 - Random Forest Classifier\n",
    "* Accuracy : 40.4%"
   ]
  }
 ],
 "metadata": {
  "accelerator": "GPU",
  "colab": {
   "name": "Universal Sentence Encoder New.ipynb",
   "provenance": [],
   "version": "0.3.2"
  },
  "kernelspec": {
   "display_name": "Python 3",
   "language": "python",
   "name": "python3"
  }
 },
 "nbformat": 4,
 "nbformat_minor": 1
}
