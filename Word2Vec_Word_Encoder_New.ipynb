{
 "cells": [
  {
   "cell_type": "markdown",
   "metadata": {
    "colab_type": "text",
    "id": "LNpBgLfKA0Cx"
   },
   "source": [
    "### Word2Vec\n",
    "It is a model used for learning vector representation of words called \"word embeddings\".It takes a text corpus and produces a vector set as the output for each unique ocurrence of the words in the dataset. The vectors correspond to each word and are of length 100 each."
   ]
  },
  {
   "cell_type": "markdown",
   "metadata": {
    "colab_type": "text",
    "id": "jxyZVbykBfNs"
   },
   "source": [
    "#### Run the following to download the packages"
   ]
  },
  {
   "cell_type": "code",
   "execution_count": 0,
   "metadata": {
    "colab": {},
    "colab_type": "code",
    "id": "sf_UraXGBSkr"
   },
   "outputs": [],
   "source": [
    "import nltk\n",
    "# nltk.download('punkt')\n",
    "# nltk.download('stopwords')\n",
    "# nltk.download('wordnet')"
   ]
  },
  {
   "cell_type": "markdown",
   "metadata": {
    "colab_type": "text",
    "id": "YbMsmVTlBtzj"
   },
   "source": [
    "#### Run the following to load performance metrics"
   ]
  },
  {
   "cell_type": "code",
   "execution_count": 0,
   "metadata": {
    "colab": {},
    "colab_type": "code",
    "id": "TIm5H9lEBrO6"
   },
   "outputs": [],
   "source": [
    "# pip install keras-metrics"
   ]
  },
  {
   "cell_type": "code",
   "execution_count": 3,
   "metadata": {
    "colab": {
     "base_uri": "https://localhost:8080/",
     "height": 34
    },
    "colab_type": "code",
    "id": "3XVWqKhgBz8U",
    "outputId": "26e0ac1a-616f-47ee-f978-56704ccf981a"
   },
   "outputs": [
    {
     "name": "stderr",
     "output_type": "stream",
     "text": [
      "Using TensorFlow backend.\n"
     ]
    }
   ],
   "source": [
    "# Required Libraries\n",
    "import gensim \n",
    "import warnings\n",
    "import numpy as np\n",
    "import pandas as pd\n",
    "import seaborn as sns\n",
    "import keras_metrics\n",
    "import matplotlib.pyplot as plt\n",
    "from gensim.models import Word2Vec\n",
    "\n",
    "from sklearn.utils import shuffle\n",
    "from sklearn.model_selection import train_test_split, cross_val_score\n",
    "from sklearn.svm import LinearSVC\n",
    "\n",
    "from keras.preprocessing import sequence\n",
    "from keras.models import Sequential\n",
    "from keras.layers import Dense\n",
    "from keras.layers import LSTM\n",
    "from keras.layers.embeddings import Embedding\n",
    "from keras.preprocessing import sequence\n",
    "\n",
    "from nltk import word_tokenize\n",
    "from nltk.corpus import stopwords\n",
    "from string import punctuation\n",
    "from nltk.collocations import *\n",
    "from nltk.stem import WordNetLemmatizer"
   ]
  },
  {
   "cell_type": "markdown",
   "metadata": {
    "colab_type": "text",
    "id": "aFECYsegDJ9V"
   },
   "source": [
    "#### Load the dataset from the csv files\n",
    "* Training : P1_training_set.csv\n",
    "* Testing : P1_testing_set.csv\n",
    "Create a collective dataset (df) - to perform pre-processing uniformly on the dataset"
   ]
  },
  {
   "cell_type": "code",
   "execution_count": 0,
   "metadata": {
    "colab": {},
    "colab_type": "code",
    "id": "EmqxS24MDPbN"
   },
   "outputs": [],
   "source": [
    "df_train_org = pd.read_csv(\"P1_training_set.csv\")\n",
    "df_train_shuf = shuffle(df_train_org)\n",
    "\n",
    "df_test_org = pd.read_csv(\"P1_testing_set.csv\")\n",
    "df_test_shuf = shuffle(df_test_org)\n",
    "\n",
    "frames = [df_train_shuf, df_test_shuf]\n",
    "df = pd.concat(frames, axis=0)"
   ]
  },
  {
   "cell_type": "markdown",
   "metadata": {
    "colab_type": "text",
    "id": "kFbwGFMtDTWh"
   },
   "source": [
    "### Preprocessing\n",
    "* Word Tokenize : Convert the sentences into Tokens\n",
    "* Use the stopwords and punctuation list from nltk to clean the word tokens\n",
    "* Use WordNetLemmatizer to convert words to their base form"
   ]
  },
  {
   "cell_type": "code",
   "execution_count": 0,
   "metadata": {
    "colab": {},
    "colab_type": "code",
    "id": "gdUO31LSDchR"
   },
   "outputs": [],
   "source": [
    "def preprocessing(text):\n",
    "    sent = ''.join(i for i in text if not i.isdigit())\n",
    "    word_sent = word_tokenize(sent)\n",
    "    _stopwords = set(stopwords.words('english') + list(punctuation))\n",
    "    st = WordNetLemmatizer() \n",
    "    _stopwords.add(\"'s\")\n",
    "    word_sent = [st.lemmatize(word) for word in word_sent if word not in _stopwords]\n",
    "    return word_sent\n",
    "\n",
    "for i in df:\n",
    "    df['process_E1'] = [preprocessing(i) for i in df['Event 1']]\n",
    "    df['process_E2'] = [preprocessing(i) for i in df['Event 2']] "
   ]
  },
  {
   "cell_type": "markdown",
   "metadata": {
    "colab_type": "text",
    "id": "xQKUdYyPC3EU"
   },
   "source": [
    "#### Train the word2vec model on the given dataset"
   ]
  },
  {
   "cell_type": "code",
   "execution_count": 0,
   "metadata": {
    "colab": {},
    "colab_type": "code",
    "id": "kKG03xMCC2Qc"
   },
   "outputs": [],
   "source": [
    "# !wget -P /root/input/ -c \"https://s3.amazonaws.com/dl4j-distribution/GoogleNews-vectors-negative300.bin.gz\" \n",
    "# from gensim.models import KeyedVectors\n",
    "# EMBEDDING_FILE = '/root/input/GoogleNews-vectors-negative300.bin.gz' # from above\n",
    "# model = KeyedVectors.load_word2vec_format(EMBEDDING_FILE, binary=True)\n",
    "\n",
    "model = gensim.models.Word2Vec(df['process_E1']+df['process_E2'], min_count = 1,size = 100, window = 5) \n"
   ]
  },
  {
   "cell_type": "markdown",
   "metadata": {
    "colab_type": "text",
    "id": "FYKlFaZyDy2y"
   },
   "source": [
    "### Word Embedding\n",
    "Convert the word tokens into vectors each of length 100."
   ]
  },
  {
   "cell_type": "code",
   "execution_count": 7,
   "metadata": {
    "colab": {
     "base_uri": "https://localhost:8080/",
     "height": 105
    },
    "colab_type": "code",
    "id": "Apk3ZgoNDfrl",
    "outputId": "900d8b3e-c5a8-41ff-bb7f-795217929bef"
   },
   "outputs": [
    {
     "name": "stderr",
     "output_type": "stream",
     "text": [
      "/usr/local/lib/python3.6/dist-packages/ipykernel_launcher.py:3: DeprecationWarning: Call to deprecated `__getitem__` (Method will be removed in 4.0.0, use self.wv.__getitem__() instead).\n",
      "  This is separate from the ipykernel package so we can avoid doing imports until\n",
      "/usr/local/lib/python3.6/dist-packages/ipykernel_launcher.py:9: DeprecationWarning: Call to deprecated `__getitem__` (Method will be removed in 4.0.0, use self.wv.__getitem__() instead).\n",
      "  if __name__ == '__main__':\n"
     ]
    }
   ],
   "source": [
    "list_E1 = []\n",
    "for j in df['process_E1']:\n",
    "  res = sum(np.array(model[j]))\n",
    "  val = res/len(j)\n",
    "  list_E1.append(val)\n",
    "\n",
    "list_E2 = []\n",
    "for j in df['process_E2']:\n",
    "  res = sum(np.array(model[j]))\n",
    "  val = res/len(j)\n",
    "  list_E2.append(val)\n",
    "\n",
    "event_concat = list(map(lambda x, y: list(x) + list(y), list_E1, list_E2))\n",
    "df_vec = pd.DataFrame(list(zip(list_E1, list_E2, event_concat, df['Label'])),columns = ['List_E1', 'List_E2', 'Total Event','Label'])\n"
   ]
  },
  {
   "cell_type": "markdown",
   "metadata": {
    "colab_type": "text",
    "id": "dPSxzS_tEJe7"
   },
   "source": [
    "### Input and Output Dataset\n",
    "df_vec['Total Event'] - X : Input\n",
    "\n",
    "df_vec['Label'] - Y : Output\n",
    "\n",
    "Training : 70% of the Dataset\n",
    "\n",
    "Testing : 30% of the Dataset"
   ]
  },
  {
   "cell_type": "code",
   "execution_count": 0,
   "metadata": {
    "colab": {},
    "colab_type": "code",
    "id": "QbGq3y6AEkkZ"
   },
   "outputs": [],
   "source": [
    "X = df_vec['Total Event']\n",
    "y = df_vec['Label']\n",
    "\n",
    "X_train, X_test, y_train, y_test = train_test_split(X, y,test_size=0.30, random_state=42)\t\t\t\t\t \n",
    "X_train = sequence.pad_sequences(X_train)\n",
    "X_test = sequence.pad_sequences(X_test)"
   ]
  },
  {
   "cell_type": "markdown",
   "metadata": {
    "colab_type": "text",
    "id": "BbRWyHccEpiM"
   },
   "source": [
    "### Model 1\n",
    "- Sequential Model\n",
    "- 100 units - LSTM\n",
    "- Dense Layer - 1 hidden unit with \"sigmoid\" activation function\n",
    "- Dense Layer - 1 hidden unit with \"softmax\" activation function\n",
    "- Optimizer - \"rmsprop\""
   ]
  },
  {
   "cell_type": "code",
   "execution_count": 9,
   "metadata": {
    "colab": {
     "base_uri": "https://localhost:8080/",
     "height": 768
    },
    "colab_type": "code",
    "id": "Wx7DEPgYE9KS",
    "outputId": "b5cd7b7b-fea0-4c94-87ea-c26aca45290d"
   },
   "outputs": [
    {
     "name": "stdout",
     "output_type": "stream",
     "text": [
      "WARNING:tensorflow:From /usr/local/lib/python3.6/dist-packages/keras/backend/tensorflow_backend.py:66: The name tf.get_default_graph is deprecated. Please use tf.compat.v1.get_default_graph instead.\n",
      "\n",
      "WARNING:tensorflow:From /usr/local/lib/python3.6/dist-packages/keras/backend/tensorflow_backend.py:541: The name tf.placeholder is deprecated. Please use tf.compat.v1.placeholder instead.\n",
      "\n",
      "WARNING:tensorflow:From /usr/local/lib/python3.6/dist-packages/keras/backend/tensorflow_backend.py:4432: The name tf.random_uniform is deprecated. Please use tf.random.uniform instead.\n",
      "\n",
      "WARNING:tensorflow:From /usr/local/lib/python3.6/dist-packages/keras/optimizers.py:793: The name tf.train.Optimizer is deprecated. Please use tf.compat.v1.train.Optimizer instead.\n",
      "\n",
      "WARNING:tensorflow:From /usr/local/lib/python3.6/dist-packages/keras/backend/tensorflow_backend.py:3657: The name tf.log is deprecated. Please use tf.math.log instead.\n",
      "\n",
      "WARNING:tensorflow:From /usr/local/lib/python3.6/dist-packages/tensorflow/python/ops/nn_impl.py:180: add_dispatch_support.<locals>.wrapper (from tensorflow.python.ops.array_ops) is deprecated and will be removed in a future version.\n",
      "Instructions for updating:\n",
      "Use tf.where in 2.0, which has the same broadcast rule as np.where\n",
      "WARNING:tensorflow:From /usr/local/lib/python3.6/dist-packages/keras/backend/tensorflow_backend.py:1033: The name tf.assign_add is deprecated. Please use tf.compat.v1.assign_add instead.\n",
      "\n",
      "Model: \"sequential_1\"\n",
      "_________________________________________________________________\n",
      "Layer (type)                 Output Shape              Param #   \n",
      "=================================================================\n",
      "embedding_1 (Embedding)      (None, 200, 500)          5000000   \n",
      "_________________________________________________________________\n",
      "lstm_1 (LSTM)                (None, 100)               240400    \n",
      "_________________________________________________________________\n",
      "dense_1 (Dense)              (None, 1)                 101       \n",
      "_________________________________________________________________\n",
      "dense_2 (Dense)              (None, 1)                 2         \n",
      "=================================================================\n",
      "Total params: 5,240,503\n",
      "Trainable params: 5,240,503\n",
      "Non-trainable params: 0\n",
      "_________________________________________________________________\n",
      "None\n",
      "Epoch 1/3\n",
      "6276/6276 [==============================] - 41s 6ms/step - loss: -2.6952 - acc: 0.3921 - precision: 1.1691 - recall: 1.0000\n",
      "Epoch 2/3\n",
      "6276/6276 [==============================] - 39s 6ms/step - loss: -2.6952 - acc: 0.3921 - precision: 1.1691 - recall: 1.0000\n",
      "Epoch 3/3\n",
      "6276/6276 [==============================] - 39s 6ms/step - loss: -2.6952 - acc: 0.3921 - precision: 1.1691 - recall: 1.0000\n",
      "Accuracy   : 0.419\n",
      "Precision  : 1.15\n",
      "Recall     : 1.0\n",
      "Loss       : -2.32\n",
      "F1-Score   : 1.07\n"
     ]
    }
   ],
   "source": [
    "embedding_vecor_length = 32\n",
    "model1 = Sequential()\n",
    "model1.add(Embedding(10000, 500, input_length=200))\n",
    "model1.add(LSTM(100))\n",
    "model1.add(Dense(1, activation='sigmoid'))\n",
    "model1.add(Dense(1, activation=\"softmax\"))\n",
    "model1.compile(loss='binary_crossentropy', optimizer='rmsprop', metrics=['accuracy', keras_metrics.precision(), keras_metrics.recall()])\n",
    "\n",
    "print(model1.summary())\n",
    "\n",
    "# Training Phase - Fit the model\n",
    "model1.fit(X_train, y_train, epochs=3, batch_size=64)\n",
    "\n",
    "# Testing Phase - Evaluate the model\n",
    "scores = model1.evaluate(X_test, y_test, verbose=0)\n",
    "\n",
    "# Performance Metrics\n",
    "print('Accuracy   : {:2.3}'.format(scores[1]))\n",
    "print('Precision  : {:2.3}'.format(scores[2]))\n",
    "print('Recall     : {:2.3}'.format(scores[3]))\n",
    "print('Loss       : {:2.3}'.format(scores[0]))\n",
    "f_score = (2.0 * scores[2] * scores[3]) / (scores[2] + scores[3])\n",
    "print('F1-Score   : {:2.3}'.format(f_score))"
   ]
  },
  {
   "cell_type": "markdown",
   "metadata": {
    "colab_type": "text",
    "id": "bDORmYa6E_YW"
   },
   "source": [
    "### Model 2\n",
    "* Sequential Model\n",
    "* 100 units - LSTM\n",
    "* Dense Layer - 256 hidden unit with - \"relu\" activation function\n",
    "* Dense Layer - 1 hidden unit with - - \"softmax\" activation function\n",
    "* Optimizer - \"adam\""
   ]
  },
  {
   "cell_type": "code",
   "execution_count": 10,
   "metadata": {
    "colab": {
     "base_uri": "https://localhost:8080/",
     "height": 513
    },
    "colab_type": "code",
    "id": "yNPsqqS9FFtn",
    "outputId": "8ec5a9fc-395f-43ac-a1a9-3fff966a26f3"
   },
   "outputs": [
    {
     "name": "stdout",
     "output_type": "stream",
     "text": [
      "Model: \"sequential_2\"\n",
      "_________________________________________________________________\n",
      "Layer (type)                 Output Shape              Param #   \n",
      "=================================================================\n",
      "embedding_2 (Embedding)      (None, 200, 500)          5000000   \n",
      "_________________________________________________________________\n",
      "lstm_2 (LSTM)                (None, 100)               240400    \n",
      "_________________________________________________________________\n",
      "dense_3 (Dense)              (None, 256)               25856     \n",
      "_________________________________________________________________\n",
      "dense_4 (Dense)              (None, 1)                 257       \n",
      "=================================================================\n",
      "Total params: 5,266,513\n",
      "Trainable params: 5,266,513\n",
      "Non-trainable params: 0\n",
      "_________________________________________________________________\n",
      "None\n",
      "Epoch 1/3\n",
      "6276/6276 [==============================] - 40s 6ms/step - loss: -2.6952 - acc: 0.3921 - precision: 1.1691 - recall: 1.0000\n",
      "Epoch 2/3\n",
      "6276/6276 [==============================] - 40s 6ms/step - loss: -2.6952 - acc: 0.3921 - precision: 1.1691 - recall: 1.0000\n",
      "Epoch 3/3\n",
      "6276/6276 [==============================] - 40s 6ms/step - loss: -2.6952 - acc: 0.3921 - precision: 1.1691 - recall: 1.0000\n",
      "Accuracy   : 0.419\n",
      "Precision  : 1.15\n",
      "Recall     : 1.0\n",
      "Loss       : -2.32\n",
      "F1-Score   : 1.07\n"
     ]
    }
   ],
   "source": [
    "embedding_vecor_length = 26\n",
    "model2 = Sequential()\n",
    "model2.add(Embedding(10000, 500, input_length=200))\n",
    "model2.add(LSTM(100))\n",
    "model2.add(Dense(256, activation='relu'))\n",
    "model2.add(Dense(1, activation=\"softmax\"))\n",
    "model2.compile(loss='binary_crossentropy', optimizer='adam', metrics=['accuracy', keras_metrics.precision(), keras_metrics.recall()])\n",
    "\n",
    "print(model2.summary())\n",
    "model2.fit(X_train, y_train, epochs=3, batch_size=64)\n",
    "\n",
    "# Final evaluation of the model\n",
    "scores = model2.evaluate(X_test, y_test, verbose=0)\n",
    "\n",
    "print('Accuracy   : {:2.3}'.format(scores[1]))\n",
    "print('Precision  : {:2.3}'.format(scores[2]))\n",
    "print('Recall     : {:2.3}'.format(scores[3]))\n",
    "print('Loss       : {:2.3}'.format(scores[0]))\n",
    "f_score = (2.0 * scores[2] * scores[3]) / (scores[2] + scores[3])\n",
    "print('F1-Score   : {:2.3}'.format(f_score))"
   ]
  },
  {
   "cell_type": "markdown",
   "metadata": {
    "colab_type": "text",
    "id": "oW_lQgV0FIup"
   },
   "source": [
    "### Model 3\n",
    "- Linear SVC - Linear Support Vector Classification\n",
    "- random state = 0\n",
    "- Tolerance for stopping criteria - e-5"
   ]
  },
  {
   "cell_type": "code",
   "execution_count": 11,
   "metadata": {
    "colab": {
     "base_uri": "https://localhost:8080/",
     "height": 284
    },
    "colab_type": "code",
    "id": "lG837Li_FVZw",
    "outputId": "04740ac7-0dfb-491f-fe92-52c8e074b028"
   },
   "outputs": [
    {
     "data": {
      "image/png": "[encoded data removed]",
      "text/plain": [
       "<Figure size 432x288 with 1 Axes>"
      ]
     },
     "metadata": {
      "tags": []
     },
     "output_type": "display_data"
    }
   ],
   "source": [
    "models = [LinearSVC(random_state=0, tol=1e-5)]\n",
    "CV = 5\n",
    "cv_df = pd.DataFrame(index=range(len(models)))\n",
    "entries = []\n",
    "for model in models:\n",
    "  model_name = model.__class__.__name__\n",
    "  accuracies = cross_val_score(model, X_train, y_train, scoring='accuracy', cv=CV)\n",
    "  for fold_idx, accuracy in enumerate(accuracies):\n",
    "    entries.append((model_name, fold_idx, accuracy))\n",
    "cv_df = pd.DataFrame(entries, columns=['model_name', 'fold_idx', 'accuracy'])\n",
    "sns.boxplot(x='model_name', y='accuracy', data=cv_df)\n",
    "sns.stripplot(x='model_name', y='accuracy', data=cv_df, \n",
    "              size=8, jitter=True, edgecolor=\"gray\", linewidth=2)\n",
    "plt.show()\n"
   ]
  },
  {
   "cell_type": "code",
   "execution_count": 12,
   "metadata": {
    "colab": {
     "base_uri": "https://localhost:8080/",
     "height": 68
    },
    "colab_type": "code",
    "id": "6-rXLJd6GB8l",
    "outputId": "8e160a9d-0de7-40e9-c155-e8c5d5eb088a"
   },
   "outputs": [
    {
     "name": "stdout",
     "output_type": "stream",
     "text": [
      "---------------------\n",
      "LinearSVC   Accuracy : 39.4%\n",
      "---------------------\n"
     ]
    }
   ],
   "source": [
    "val = 0\n",
    "for i in range(len(cv_df)):\n",
    "  val  = val + cv_df['accuracy'][i]\n",
    "val = val/5\n",
    "print(\"---------------------\")\n",
    "print(cv_df['model_name'][i],'  Accuracy : {:2.3}%'.format(val* 100))\n",
    "print('---------------------')"
   ]
  },
  {
   "cell_type": "markdown",
   "metadata": {
    "colab_type": "text",
    "id": "HTjiEDAmQa6h"
   },
   "source": [
    "### Performance Metrics\n",
    "\n",
    "Environment : Google Colabs - GPU\n",
    "\n",
    "#### Model 1 - Sequential - LSTM(100),Sigmod(1), Softmax(1)\n",
    "* Accuracy   : 41.9%\n",
    "* Precision  : 1.15\n",
    "* Recall     : 1.0\n",
    "* Loss       : -2.32\n",
    "* F1-Score   : 1.07\n",
    "##### Computation time : 2 mins\n",
    "\n",
    "#### Model 2 - Sequential - LSTM(100),Relu(256), Softmax(1)\n",
    "* Accuracy   : 42%\n",
    "* Precision  : 1.15\n",
    "* Recall     : 1.0\n",
    "* Loss       : -2.32\n",
    "* F1-Score   : 1.07\n",
    "\n",
    "##### Computation time : 2 mins\n",
    "\n",
    "#### Model 3 - Linear Support Vector Classifier\n",
    "* Accuracy  : 39.4%"
   ]
  }
 ],
 "metadata": {
  "accelerator": "GPU",
  "colab": {
   "name": "Word2Vec Word Encoder New.ipynb",
   "provenance": [],
   "version": "0.3.2"
  },
  "kernelspec": {
   "display_name": "Python 3",
   "language": "python",
   "name": "python3"
  }
 },
 "nbformat": 4,
 "nbformat_minor": 1
}
