{
 "cells": [
  {
   "cell_type": "markdown",
   "metadata": {
    "colab_type": "text",
    "id": "Fy0xrRUDU8-m"
   },
   "source": [
    "### Spacy\n",
    "It is a framework that performs index preserving tokenization in action -  preserves this “link” between the word and its place in the raw text. It converts the tokens each of length 300.The spacy Pre-trained word vectors are used."
   ]
  },
  {
   "cell_type": "markdown",
   "metadata": {
    "colab_type": "text",
    "id": "vdD86U3RV7Tm"
   },
   "source": [
    "#### Run the following to download the packages"
   ]
  },
  {
   "cell_type": "code",
   "execution_count": 0,
   "metadata": {
    "colab": {},
    "colab_type": "code",
    "id": "DIo_WNdaUPkp"
   },
   "outputs": [],
   "source": [
    "import nltk\n",
    "# nltk.download('punkt')\n",
    "# nltk.download('stopwords')\n",
    "# nltk.download('wordnet')"
   ]
  },
  {
   "cell_type": "markdown",
   "metadata": {
    "colab_type": "text",
    "id": "isoqpqYZWDpJ"
   },
   "source": [
    "#### Run the following to load performance metrics"
   ]
  },
  {
   "cell_type": "code",
   "execution_count": 0,
   "metadata": {
    "colab": {},
    "colab_type": "code",
    "id": "3WLfhy4LWEZe"
   },
   "outputs": [],
   "source": [
    "# pip install keras-metrics"
   ]
  },
  {
   "cell_type": "code",
   "execution_count": 3,
   "metadata": {
    "colab": {
     "base_uri": "https://localhost:8080/",
     "height": 34
    },
    "colab_type": "code",
    "id": "ep6j98GgWOj_",
    "outputId": "a1338836-acb1-46fc-e176-16a6b20d616c"
   },
   "outputs": [
    {
     "name": "stderr",
     "output_type": "stream",
     "text": [
      "Using TensorFlow backend.\n"
     ]
    }
   ],
   "source": [
    "### Required Libraries\n",
    "import spacy.cli\n",
    "import pandas as pd\n",
    "import os, sys\n",
    "import warnings\n",
    "import keras_metrics\n",
    "import numpy as np\n",
    "import pandas as pd\n",
    "import seaborn as sns\n",
    "import matplotlib.pyplot as plt\n",
    "\n",
    "from sklearn.utils import shuffle\n",
    "from sklearn.model_selection import train_test_split, cross_val_score\n",
    "from sklearn.linear_model import LogisticRegression\n",
    "\n",
    "from nltk import word_tokenize\n",
    "from nltk.corpus import stopwords\n",
    "from string import punctuation\n",
    "from nltk.collocations import *\n",
    "from nltk.stem import WordNetLemmatizer\n",
    "\n",
    "from keras.preprocessing import sequence\n",
    "from keras.models import Sequential\n",
    "from keras.layers import Dense\n",
    "from keras.layers import LSTM\n",
    "from keras.layers.embeddings import Embedding\n",
    "from keras.preprocessing import sequence\n",
    "# spacy.cli.download(\"en_core_web_lg\")"
   ]
  },
  {
   "cell_type": "markdown",
   "metadata": {
    "colab_type": "text",
    "id": "Yncxfj9TW7Tl"
   },
   "source": [
    "#### Spacy to pre_trained vocabulary set, download and load it\n"
   ]
  },
  {
   "cell_type": "code",
   "execution_count": 0,
   "metadata": {
    "colab": {},
    "colab_type": "code",
    "id": "LugK6mkjW7lY"
   },
   "outputs": [],
   "source": [
    "# spacy.cli.download(\"en_core_web_lg\")\n",
    "nlp = spacy.load('en_core_web_lg')"
   ]
  },
  {
   "cell_type": "markdown",
   "metadata": {
    "colab_type": "text",
    "id": "2q6ipvydXVqP"
   },
   "source": [
    "#### Load the dataset from the csv files\n",
    "* Training : P1_training_set.csv\n",
    "* Testing : P1_testing_set.csv\n",
    "\n",
    "\n",
    "Create a collective dataset (df) - to perform pre-processing uniformly on the dataset"
   ]
  },
  {
   "cell_type": "code",
   "execution_count": 0,
   "metadata": {
    "colab": {},
    "colab_type": "code",
    "id": "Km3Kt3B6Xa3P"
   },
   "outputs": [],
   "source": [
    "df_train_org = pd.read_csv(\"P1_training_set.csv\")\n",
    "df_train_shuf = shuffle(df_train_org)\n",
    "\n",
    "df_test_org = pd.read_csv(\"P1_testing_set.csv\")\n",
    "df_test_shuf = shuffle(df_test_org)\n",
    "\n",
    "frames = [df_train_shuf, df_test_shuf]\n",
    "df = pd.concat(frames, axis=0)"
   ]
  },
  {
   "cell_type": "markdown",
   "metadata": {
    "colab_type": "text",
    "id": "TE6gaA9vYQaH"
   },
   "source": [
    "### Preprocessing\n",
    "- Word Tokenize : Convert the sentences into Tokens\n",
    "- Use the stopwords and punctuation list from nltk to clean the word tokens\n",
    "- Use WordNetLemmatizer to convert words to their base form"
   ]
  },
  {
   "cell_type": "code",
   "execution_count": 0,
   "metadata": {
    "colab": {},
    "colab_type": "code",
    "id": "0SsFnxjvXdQD"
   },
   "outputs": [],
   "source": [
    "def preprocessing(text):\n",
    "    sent = ''.join(i for i in text if not i.isdigit())\n",
    "    word_sent = word_tokenize(sent)\n",
    "    _stopwords = set(stopwords.words('english') + list(punctuation))\n",
    "    st = WordNetLemmatizer() \n",
    "    _stopwords.add(\"'s\")\n",
    "    word_sent = [st.lemmatize(word) for word in word_sent if word not in _stopwords]\n",
    "    return word_sent\n",
    "\n",
    "for i in df:\n",
    "    df['process_E1'] = [preprocessing(i) for i in df['Event 1']]\n",
    "    df['process_E2'] = [preprocessing(i) for i in df['Event 2']]"
   ]
  },
  {
   "cell_type": "markdown",
   "metadata": {
    "colab_type": "text",
    "id": "1G9VSdYhYdx7"
   },
   "source": [
    "### Spacy word Embedding\n",
    "* Convert the words into vectors each of length 300"
   ]
  },
  {
   "cell_type": "code",
   "execution_count": 0,
   "metadata": {
    "colab": {},
    "colab_type": "code",
    "id": "Nf_mWSOQYlNy"
   },
   "outputs": [],
   "source": [
    "import numpy as np\n",
    "list_E1 = []\n",
    "for j in df['process_E1']:\n",
    "  res = [0] * 300\n",
    "  val = [0] * 300\n",
    "  length = len(j)\n",
    "  for token in j:\n",
    "    res  = res + (nlp.vocab[token].vector)\n",
    "  val = res/length \n",
    "  list_E1.append(val)\n",
    "\n",
    "import numpy as np\n",
    "list_E2 = []\n",
    "for j in df['process_E2']:\n",
    "  res = [0] * 300\n",
    "  val = [0] * 300\n",
    "  length = len(j)\n",
    "  for token in j:\n",
    "    res  = res + (nlp.vocab[token].vector)\n",
    "  val = res/length \n",
    "  list_E2.append(val)  \n",
    "  \n",
    "event_concat = list(map(lambda x, y: list(x) + list(y), list_E1, list_E2))\n",
    "df_vec = pd.DataFrame(list(zip(list_E1, list_E2, event_concat, df['Label'])),columns = ['List_E1', 'List_E2', 'Total Event','Label'])\n"
   ]
  },
  {
   "cell_type": "markdown",
   "metadata": {
    "colab_type": "text",
    "id": "00YW5-NwZKAv"
   },
   "source": [
    "### Input and Output Dataset\n",
    "* df_vec['Total Event'] - X : Input\n",
    "* df_vec['Label'] - Y : Output\n",
    "* Training : 70% of the Dataset\n",
    "* Testing : 30% of the Dataset"
   ]
  },
  {
   "cell_type": "code",
   "execution_count": 0,
   "metadata": {
    "colab": {},
    "colab_type": "code",
    "id": "R_KVFWIWZU5G"
   },
   "outputs": [],
   "source": [
    "X = df_vec['Total Event']\n",
    "y = df_vec['Label']\n",
    "\n",
    "X_train, X_test, y_train, y_test = train_test_split(X, y,test_size=0.30, random_state=42)\t\t\t\t\t \n",
    "X_train = sequence.pad_sequences(X_train)\n",
    "X_test = sequence.pad_sequences(X_test)"
   ]
  },
  {
   "cell_type": "markdown",
   "metadata": {
    "colab_type": "text",
    "id": "MIqdYb_9ZhpL"
   },
   "source": [
    "### Model 1\n",
    "- Sequential Model\n",
    "- 100 units - LSTM\n",
    "- Dense Layer - 1 hidden unit with \"sigmoid\" activation function\n",
    "- Dense Layer - 1 hidden unit with \"softmax\" activation function\n",
    "- Optimizer - \"rmsprop\""
   ]
  },
  {
   "cell_type": "code",
   "execution_count": 9,
   "metadata": {
    "colab": {
     "base_uri": "https://localhost:8080/",
     "height": 768
    },
    "colab_type": "code",
    "id": "GtHUoVCxZm4H",
    "outputId": "d2c0c695-5abb-40db-e78f-ca0637fb9413"
   },
   "outputs": [
    {
     "name": "stdout",
     "output_type": "stream",
     "text": [
      "WARNING:tensorflow:From /usr/local/lib/python3.6/dist-packages/keras/backend/tensorflow_backend.py:66: The name tf.get_default_graph is deprecated. Please use tf.compat.v1.get_default_graph instead.\n",
      "\n",
      "WARNING:tensorflow:From /usr/local/lib/python3.6/dist-packages/keras/backend/tensorflow_backend.py:541: The name tf.placeholder is deprecated. Please use tf.compat.v1.placeholder instead.\n",
      "\n",
      "WARNING:tensorflow:From /usr/local/lib/python3.6/dist-packages/keras/backend/tensorflow_backend.py:4432: The name tf.random_uniform is deprecated. Please use tf.random.uniform instead.\n",
      "\n",
      "WARNING:tensorflow:From /usr/local/lib/python3.6/dist-packages/keras/optimizers.py:793: The name tf.train.Optimizer is deprecated. Please use tf.compat.v1.train.Optimizer instead.\n",
      "\n",
      "WARNING:tensorflow:From /usr/local/lib/python3.6/dist-packages/keras/backend/tensorflow_backend.py:3657: The name tf.log is deprecated. Please use tf.math.log instead.\n",
      "\n",
      "WARNING:tensorflow:From /usr/local/lib/python3.6/dist-packages/tensorflow/python/ops/nn_impl.py:180: add_dispatch_support.<locals>.wrapper (from tensorflow.python.ops.array_ops) is deprecated and will be removed in a future version.\n",
      "Instructions for updating:\n",
      "Use tf.where in 2.0, which has the same broadcast rule as np.where\n",
      "WARNING:tensorflow:From /usr/local/lib/python3.6/dist-packages/keras/backend/tensorflow_backend.py:1033: The name tf.assign_add is deprecated. Please use tf.compat.v1.assign_add instead.\n",
      "\n",
      "Model: \"sequential_1\"\n",
      "_________________________________________________________________\n",
      "Layer (type)                 Output Shape              Param #   \n",
      "=================================================================\n",
      "embedding_1 (Embedding)      (None, 600, 500)          5000000   \n",
      "_________________________________________________________________\n",
      "lstm_1 (LSTM)                (None, 100)               240400    \n",
      "_________________________________________________________________\n",
      "dense_1 (Dense)              (None, 1)                 101       \n",
      "_________________________________________________________________\n",
      "dense_2 (Dense)              (None, 1)                 2         \n",
      "=================================================================\n",
      "Total params: 5,240,503\n",
      "Trainable params: 5,240,503\n",
      "Non-trainable params: 0\n",
      "_________________________________________________________________\n",
      "None\n",
      "Epoch 1/3\n",
      "6276/6276 [==============================] - 117s 19ms/step - loss: -2.6240 - acc: 0.3985 - precision: 1.1646 - recall: 1.0000\n",
      "Epoch 2/3\n",
      "6276/6276 [==============================] - 117s 19ms/step - loss: -2.6240 - acc: 0.3985 - precision: 1.1646 - recall: 1.0000\n",
      "Epoch 3/3\n",
      "6276/6276 [==============================] - 116s 19ms/step - loss: -2.6240 - acc: 0.3985 - precision: 1.1646 - recall: 1.0000\n",
      "Accuracy   : 0.404\n",
      "Precision  : 1.16\n",
      "Recall     : 1.0\n",
      "Loss       : -2.49\n",
      "F1-Score   : 1.07\n"
     ]
    }
   ],
   "source": [
    "model1 = Sequential()\n",
    "model1.add(Embedding(10000, 500, input_length=600))\n",
    "model1.add(LSTM(100))\n",
    "model1.add(Dense(1, activation='sigmoid'))\n",
    "model1.add(Dense(1, activation=\"softmax\"))\n",
    "model1.compile(loss='binary_crossentropy', optimizer='rmsprop', metrics=['accuracy', keras_metrics.precision(), keras_metrics.recall()])\n",
    "\n",
    "print(model1.summary())\n",
    "\n",
    "# Training Phase - Fit the model\n",
    "model1.fit(X_train, y_train, epochs=3, batch_size=64)\n",
    "\n",
    "# Testing Phase - Evaluate the model\n",
    "scores = model1.evaluate(X_test, y_test, verbose=0)\n",
    "\n",
    "# Performance Metrics\n",
    "print('Accuracy   : {:2.3}'.format(scores[1]))\n",
    "print('Precision  : {:2.3}'.format(scores[2]))\n",
    "print('Recall     : {:2.3}'.format(scores[3]))\n",
    "print('Loss       : {:2.3}'.format(scores[0]))\n",
    "f_score = (2.0 * scores[2] * scores[3]) / (scores[2] + scores[3])\n",
    "print('F1-Score   : {:2.3}'.format(f_score))"
   ]
  },
  {
   "cell_type": "markdown",
   "metadata": {
    "colab_type": "text",
    "id": "4Oq88ZXRZtwJ"
   },
   "source": [
    "### Model 2\n",
    "- Sequential Model\n",
    "- 100 units - LSTM\n",
    "- Dense Layer - 256 hidden unit with - \"relu\" activation function\n",
    "- Dense Layer - 1 hidden unit with - - \"softmax\" activation function\n",
    "- Optimizer - \"adam\""
   ]
  },
  {
   "cell_type": "code",
   "execution_count": 10,
   "metadata": {
    "colab": {
     "base_uri": "https://localhost:8080/",
     "height": 513
    },
    "colab_type": "code",
    "id": "cIL4bmioZscP",
    "outputId": "b77307be-7623-4477-9111-fbe3437db054"
   },
   "outputs": [
    {
     "name": "stdout",
     "output_type": "stream",
     "text": [
      "Model: \"sequential_2\"\n",
      "_________________________________________________________________\n",
      "Layer (type)                 Output Shape              Param #   \n",
      "=================================================================\n",
      "embedding_2 (Embedding)      (None, 600, 500)          5000000   \n",
      "_________________________________________________________________\n",
      "lstm_2 (LSTM)                (None, 100)               240400    \n",
      "_________________________________________________________________\n",
      "dense_3 (Dense)              (None, 256)               25856     \n",
      "_________________________________________________________________\n",
      "dense_4 (Dense)              (None, 1)                 257       \n",
      "=================================================================\n",
      "Total params: 5,266,513\n",
      "Trainable params: 5,266,513\n",
      "Non-trainable params: 0\n",
      "_________________________________________________________________\n",
      "None\n",
      "Epoch 1/3\n",
      "6276/6276 [==============================] - 117s 19ms/step - loss: -2.6240 - acc: 0.3985 - precision: 1.1646 - recall: 1.0000\n",
      "Epoch 2/3\n",
      "6276/6276 [==============================] - 116s 19ms/step - loss: -2.6240 - acc: 0.3985 - precision: 1.1646 - recall: 1.0000\n",
      "Epoch 3/3\n",
      "6276/6276 [==============================] - 117s 19ms/step - loss: -2.6240 - acc: 0.3985 - precision: 1.1646 - recall: 1.0000\n",
      "Accuracy   : 0.404\n",
      "Precision  : 1.16\n",
      "Recall     : 1.0\n",
      "Loss       : -2.49\n",
      "F1-Score   : 1.07\n"
     ]
    }
   ],
   "source": [
    "model2 = Sequential()\n",
    "model2.add(Embedding(10000, 500, input_length=600\n",
    "                     ))\n",
    "model2.add(LSTM(100))\n",
    "model2.add(Dense(256, activation='relu'))\n",
    "model2.add(Dense(1, activation=\"softmax\"))\n",
    "model2.compile(loss='binary_crossentropy', optimizer='adam', metrics=['accuracy', keras_metrics.precision(), keras_metrics.recall()])\n",
    "\n",
    "print(model2.summary())\n",
    "model2.fit(X_train, y_train, epochs=3, batch_size=64)\n",
    "\n",
    "# Final evaluation of the model\n",
    "scores = model2.evaluate(X_test, y_test, verbose=0)\n",
    "\n",
    "print('Accuracy   : {:2.3}'.format(scores[1]))\n",
    "print('Precision  : {:2.3}'.format(scores[2]))\n",
    "print('Recall     : {:2.3}'.format(scores[3]))\n",
    "print('Loss       : {:2.3}'.format(scores[0]))\n",
    "f_score = (2.0 * scores[2] * scores[3]) / (scores[2] + scores[3])\n",
    "print('F1-Score   : {:2.3}'.format(f_score))"
   ]
  },
  {
   "cell_type": "markdown",
   "metadata": {
    "colab_type": "text",
    "id": "n22QoZAmaCHl"
   },
   "source": [
    "### Model 3 - Logistic Regression\n",
    "* Random state - 0\n",
    "* Solver - 'lbfgs' - limited memory optimization algorithm\n",
    "* Multi-class"
   ]
  },
  {
   "cell_type": "code",
   "execution_count": 11,
   "metadata": {
    "colab": {
     "base_uri": "https://localhost:8080/",
     "height": 474
    },
    "colab_type": "code",
    "id": "FTPOC8E4ac7j",
    "outputId": "bb59c5ba-1226-4870-80c3-c0282c8493dd"
   },
   "outputs": [
    {
     "name": "stderr",
     "output_type": "stream",
     "text": [
      "/usr/local/lib/python3.6/dist-packages/sklearn/linear_model/logistic.py:947: ConvergenceWarning: lbfgs failed to converge. Increase the number of iterations.\n",
      "  \"of iterations.\", ConvergenceWarning)\n",
      "/usr/local/lib/python3.6/dist-packages/sklearn/linear_model/logistic.py:947: ConvergenceWarning: lbfgs failed to converge. Increase the number of iterations.\n",
      "  \"of iterations.\", ConvergenceWarning)\n",
      "/usr/local/lib/python3.6/dist-packages/sklearn/linear_model/logistic.py:947: ConvergenceWarning: lbfgs failed to converge. Increase the number of iterations.\n",
      "  \"of iterations.\", ConvergenceWarning)\n",
      "/usr/local/lib/python3.6/dist-packages/sklearn/linear_model/logistic.py:947: ConvergenceWarning: lbfgs failed to converge. Increase the number of iterations.\n",
      "  \"of iterations.\", ConvergenceWarning)\n",
      "/usr/local/lib/python3.6/dist-packages/sklearn/linear_model/logistic.py:947: ConvergenceWarning: lbfgs failed to converge. Increase the number of iterations.\n",
      "  \"of iterations.\", ConvergenceWarning)\n"
     ]
    },
    {
     "data": {
      "image/png": "[encoded data removed]",
      "text/plain": [
       "<Figure size 432x288 with 1 Axes>"
      ]
     },
     "metadata": {
      "tags": []
     },
     "output_type": "display_data"
    }
   ],
   "source": [
    "models = [LogisticRegression(random_state=0, solver='lbfgs',multi_class='multinomial')]\n",
    "CV = 5\n",
    "cv_df = pd.DataFrame(index=range(len(models)))\n",
    "entries = []\n",
    "for model in models:\n",
    "  model_name = model.__class__.__name__\n",
    "  accuracies = cross_val_score(model, X_train, y_train, scoring='accuracy', cv=CV)\n",
    "  for fold_idx, accuracy in enumerate(accuracies):\n",
    "    entries.append((model_name, fold_idx, accuracy))\n",
    "cv_df = pd.DataFrame(entries, columns=['model_name', 'fold_idx', 'accuracy'])\n",
    "sns.boxplot(x='model_name', y='accuracy', data=cv_df)\n",
    "sns.stripplot(x='model_name', y='accuracy', data=cv_df, \n",
    "              size=8, jitter=True, edgecolor=\"gray\", linewidth=2)\n",
    "plt.show()\n"
   ]
  },
  {
   "cell_type": "code",
   "execution_count": 12,
   "metadata": {
    "colab": {
     "base_uri": "https://localhost:8080/",
     "height": 68
    },
    "colab_type": "code",
    "id": "qOJcftUDbne3",
    "outputId": "cd2f3564-001f-477f-c35e-0bb1daa1756c"
   },
   "outputs": [
    {
     "name": "stdout",
     "output_type": "stream",
     "text": [
      "---------------------\n",
      "LogisticRegression   Accuracy : 39.4%\n",
      "---------------------\n"
     ]
    }
   ],
   "source": [
    "val = 0\n",
    "for i in range(len(cv_df)):\n",
    "  val  = val + cv_df['accuracy'][i]\n",
    "val = val/5\n",
    "print(\"---------------------\")\n",
    "print(cv_df['model_name'][i],'  Accuracy : {:2.3}%'.format(val* 100))\n",
    "print('---------------------')"
   ]
  },
  {
   "cell_type": "markdown",
   "metadata": {
    "colab_type": "text",
    "id": "6M_mU1kEbpg6"
   },
   "source": [
    "### Performance Measure\n",
    "#### Google Colabs - GPU\n",
    "\n",
    "#### Model 1 - Sequential - LSTM(100),Sigmod(1), Softmax(1)\n",
    "* Accuracy   : 40.4%\n",
    "* Precision  : 1.16\n",
    "* Recall     : 1.0\n",
    "* Loss       : -2.49\n",
    "* F1-Score   : 1.07\n",
    "##### Computation Time: 6 mins\n",
    "\n",
    "#### Model 2 - Sequential - LSTM(100),Relu(256), Softmax(1)\n",
    "* Accuracy   : 40.4%\n",
    "* Precision  : 1.16\n",
    "* Recall     : 1.0\n",
    "* Loss       : -2.49\n",
    "* F1-Score   : 1.07\n",
    "##### Computation Time: 6 mins\n",
    "\n",
    "#### Model 3 - Logistic Regression\n",
    "* Accuracy : 39.4%"
   ]
  }
 ],
 "metadata": {
  "accelerator": "GPU",
  "colab": {
   "name": "Spacy Word Embedder new.ipynb",
   "provenance": [],
   "version": "0.3.2"
  },
  "kernelspec": {
   "display_name": "Python 3",
   "language": "python",
   "name": "python3"
  }
 },
 "nbformat": 4,
 "nbformat_minor": 1
}
